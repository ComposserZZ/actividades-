{
  "nbformat": 4,
  "nbformat_minor": 0,
  "metadata": {
    "colab": {
      "provenance": [],
      "authorship_tag": "ABX9TyPDBEVZaUtn+uA5kitLnu5/",
      "include_colab_link": true
    },
    "kernelspec": {
      "name": "python3",
      "display_name": "Python 3"
    },
    "language_info": {
      "name": "python"
    }
  },
  "cells": [
    {
      "cell_type": "markdown",
      "metadata": {
        "id": "view-in-github",
        "colab_type": "text"
      },
      "source": [
        "<a href=\"https://colab.research.google.com/github/ComposserZZ/actividades-/blob/main/%22AF7_RNP.ipynb\" target=\"_parent\"><img src=\"https://colab.research.google.com/assets/colab-badge.svg\" alt=\"Open In Colab\"/></a>"
      ]
    },
    {
      "cell_type": "markdown",
      "source": [
        "# **ACTIVIDAD7:REDES NEURONALES ARTIFICIALES**\n",
        "\n",
        "-Walter Aldair Torres Avila 1999749 IMTC\n",
        "\n",
        "-Edson de jesus olivares vazquez 2002238\n",
        "\n",
        "-Tovar Zepeda Rogelio Jesús 2011149\n",
        "\n",
        "-Juan Carlos Reyes Delgadillo 2011149\n",
        "\n",
        "GRUPO:007"
      ],
      "metadata": {
        "id": "Jng05ti3gmVY"
      }
    },
    {
      "cell_type": "markdown",
      "source": [
        "## 1-CARGAR LIBREIRAS"
      ],
      "metadata": {
        "id": "Hr8_yxiDgYOq"
      }
    },
    {
      "cell_type": "code",
      "source": [
        "import numpy as np\n",
        "import tensorflow as tf\n",
        "from tensorflow import keras\n"
      ],
      "metadata": {
        "id": "IJ7EIE__iB-E"
      },
      "execution_count": 20,
      "outputs": []
    },
    {
      "cell_type": "markdown",
      "source": [
        "## 2-CARGAR DATOS"
      ],
      "metadata": {
        "id": "9fOXLwOpjCWX"
      }
    },
    {
      "cell_type": "code",
      "source": [
        "keras.datasets.mnist.load_data(path=\"mnist.npz\")"
      ],
      "metadata": {
        "colab": {
          "base_uri": "https://localhost:8080/"
        },
        "collapsed": true,
        "id": "meR2HaNFjHng",
        "outputId": "046838f4-47c6-47eb-e35a-391f137650c3"
      },
      "execution_count": 21,
      "outputs": [
        {
          "output_type": "execute_result",
          "data": {
            "text/plain": [
              "((array([[[0, 0, 0, ..., 0, 0, 0],\n",
              "          [0, 0, 0, ..., 0, 0, 0],\n",
              "          [0, 0, 0, ..., 0, 0, 0],\n",
              "          ...,\n",
              "          [0, 0, 0, ..., 0, 0, 0],\n",
              "          [0, 0, 0, ..., 0, 0, 0],\n",
              "          [0, 0, 0, ..., 0, 0, 0]],\n",
              "  \n",
              "         [[0, 0, 0, ..., 0, 0, 0],\n",
              "          [0, 0, 0, ..., 0, 0, 0],\n",
              "          [0, 0, 0, ..., 0, 0, 0],\n",
              "          ...,\n",
              "          [0, 0, 0, ..., 0, 0, 0],\n",
              "          [0, 0, 0, ..., 0, 0, 0],\n",
              "          [0, 0, 0, ..., 0, 0, 0]],\n",
              "  \n",
              "         [[0, 0, 0, ..., 0, 0, 0],\n",
              "          [0, 0, 0, ..., 0, 0, 0],\n",
              "          [0, 0, 0, ..., 0, 0, 0],\n",
              "          ...,\n",
              "          [0, 0, 0, ..., 0, 0, 0],\n",
              "          [0, 0, 0, ..., 0, 0, 0],\n",
              "          [0, 0, 0, ..., 0, 0, 0]],\n",
              "  \n",
              "         ...,\n",
              "  \n",
              "         [[0, 0, 0, ..., 0, 0, 0],\n",
              "          [0, 0, 0, ..., 0, 0, 0],\n",
              "          [0, 0, 0, ..., 0, 0, 0],\n",
              "          ...,\n",
              "          [0, 0, 0, ..., 0, 0, 0],\n",
              "          [0, 0, 0, ..., 0, 0, 0],\n",
              "          [0, 0, 0, ..., 0, 0, 0]],\n",
              "  \n",
              "         [[0, 0, 0, ..., 0, 0, 0],\n",
              "          [0, 0, 0, ..., 0, 0, 0],\n",
              "          [0, 0, 0, ..., 0, 0, 0],\n",
              "          ...,\n",
              "          [0, 0, 0, ..., 0, 0, 0],\n",
              "          [0, 0, 0, ..., 0, 0, 0],\n",
              "          [0, 0, 0, ..., 0, 0, 0]],\n",
              "  \n",
              "         [[0, 0, 0, ..., 0, 0, 0],\n",
              "          [0, 0, 0, ..., 0, 0, 0],\n",
              "          [0, 0, 0, ..., 0, 0, 0],\n",
              "          ...,\n",
              "          [0, 0, 0, ..., 0, 0, 0],\n",
              "          [0, 0, 0, ..., 0, 0, 0],\n",
              "          [0, 0, 0, ..., 0, 0, 0]]], dtype=uint8),\n",
              "  array([5, 0, 4, ..., 5, 6, 8], dtype=uint8)),\n",
              " (array([[[0, 0, 0, ..., 0, 0, 0],\n",
              "          [0, 0, 0, ..., 0, 0, 0],\n",
              "          [0, 0, 0, ..., 0, 0, 0],\n",
              "          ...,\n",
              "          [0, 0, 0, ..., 0, 0, 0],\n",
              "          [0, 0, 0, ..., 0, 0, 0],\n",
              "          [0, 0, 0, ..., 0, 0, 0]],\n",
              "  \n",
              "         [[0, 0, 0, ..., 0, 0, 0],\n",
              "          [0, 0, 0, ..., 0, 0, 0],\n",
              "          [0, 0, 0, ..., 0, 0, 0],\n",
              "          ...,\n",
              "          [0, 0, 0, ..., 0, 0, 0],\n",
              "          [0, 0, 0, ..., 0, 0, 0],\n",
              "          [0, 0, 0, ..., 0, 0, 0]],\n",
              "  \n",
              "         [[0, 0, 0, ..., 0, 0, 0],\n",
              "          [0, 0, 0, ..., 0, 0, 0],\n",
              "          [0, 0, 0, ..., 0, 0, 0],\n",
              "          ...,\n",
              "          [0, 0, 0, ..., 0, 0, 0],\n",
              "          [0, 0, 0, ..., 0, 0, 0],\n",
              "          [0, 0, 0, ..., 0, 0, 0]],\n",
              "  \n",
              "         ...,\n",
              "  \n",
              "         [[0, 0, 0, ..., 0, 0, 0],\n",
              "          [0, 0, 0, ..., 0, 0, 0],\n",
              "          [0, 0, 0, ..., 0, 0, 0],\n",
              "          ...,\n",
              "          [0, 0, 0, ..., 0, 0, 0],\n",
              "          [0, 0, 0, ..., 0, 0, 0],\n",
              "          [0, 0, 0, ..., 0, 0, 0]],\n",
              "  \n",
              "         [[0, 0, 0, ..., 0, 0, 0],\n",
              "          [0, 0, 0, ..., 0, 0, 0],\n",
              "          [0, 0, 0, ..., 0, 0, 0],\n",
              "          ...,\n",
              "          [0, 0, 0, ..., 0, 0, 0],\n",
              "          [0, 0, 0, ..., 0, 0, 0],\n",
              "          [0, 0, 0, ..., 0, 0, 0]],\n",
              "  \n",
              "         [[0, 0, 0, ..., 0, 0, 0],\n",
              "          [0, 0, 0, ..., 0, 0, 0],\n",
              "          [0, 0, 0, ..., 0, 0, 0],\n",
              "          ...,\n",
              "          [0, 0, 0, ..., 0, 0, 0],\n",
              "          [0, 0, 0, ..., 0, 0, 0],\n",
              "          [0, 0, 0, ..., 0, 0, 0]]], dtype=uint8),\n",
              "  array([7, 2, 1, ..., 4, 5, 6], dtype=uint8)))"
            ]
          },
          "metadata": {},
          "execution_count": 21
        }
      ]
    },
    {
      "cell_type": "markdown",
      "source": [
        "# **3-PREPROCESAMIENTO DE DATOS**"
      ],
      "metadata": {
        "id": "DBdq_l4TqNyq"
      }
    },
    {
      "cell_type": "code",
      "source": [
        "# Generar conjuntos de entrenamiento y prueba\n",
        "(x_train, y_train), (x_test, y_test) = keras.datasets.mnist.load_data()\n",
        "assert x_train.shape == (60000, 28, 28)\n",
        "assert x_test.shape == (10000, 28, 28)\n",
        "assert y_train.shape == (60000,)\n",
        "assert y_test.shape == (10000,)\n",
        "\n",
        "print(\"Dimensiones de los datos de entrenamiento:\", x_train.shape)\n",
        "print(\"Dimensiones de las etiquetas de entrenamiento:\", y_train.shape)\n",
        "print(\"Dimensiones de los datos de prueba:\", x_test.shape)\n",
        "print(\"Dimensiones de las etiquetas de prueba:\", y_test.shape)"
      ],
      "metadata": {
        "colab": {
          "base_uri": "https://localhost:8080/"
        },
        "collapsed": true,
        "id": "xUVHw6kZqbBY",
        "outputId": "c62d812c-33b9-4781-c119-85fe572b373a"
      },
      "execution_count": 24,
      "outputs": [
        {
          "output_type": "stream",
          "name": "stdout",
          "text": [
            "Dimensiones de los datos de entrenamiento: (60000, 28, 28)\n",
            "Dimensiones de las etiquetas de entrenamiento: (60000,)\n",
            "Dimensiones de los datos de prueba: (10000, 28, 28)\n",
            "Dimensiones de las etiquetas de prueba: (10000,)\n"
          ]
        }
      ]
    },
    {
      "cell_type": "markdown",
      "source": [
        "# **4-SELLECCION Y ENTRENAMIENTO DE MODELO**"
      ],
      "metadata": {
        "id": "V_EoHsdSuhx3"
      }
    },
    {
      "cell_type": "code",
      "metadata": {
        "colab": {
          "base_uri": "https://localhost:8080/"
        },
        "collapsed": true,
        "id": "c9c43472",
        "outputId": "83627146-56fa-493f-cf89-308d733758a5"
      },
      "source": [
        "# Preprocesar los datos para la red neuronal\n",
        "# Aplanar las imágenes de 28x28 a un vector de 784\n",
        "train_data_flat = x_train.reshape(x_train.shape[0], -1)\n",
        "test_data_flat = x_test.reshape(x_test.shape[0], -1)\n",
        "\n",
        "# Normalizar los valores de píxel a un rango entre 0 y 1\n",
        "train_data_normalized = train_data_flat / 255.0\n",
        "test_data_normalized = test_data_flat / 255.0\n",
        "\n",
        "# Convertir las etiquetas a formato one-hot encoding\n",
        "num_classes = 10\n",
        "train_labels_one_hot = keras.utils.to_categorical(y_train, num_classes)\n",
        "test_labels_one_hot = keras.utils.to_categorical(y_test, num_classes)\n",
        "\n",
        "\n",
        "# Construir el modelo de red neuronal\n",
        "model = keras.Sequential([\n",
        "    keras.layers.Input(shape=(784,)),  # Capa de entrada con la forma de las imágenes aplanadas\n",
        "    keras.layers.Dense(128, activation='relu'), # Capa oculta con 128 neuronas y activación ReLU\n",
        "    keras.layers.Dense(num_classes, activation='softmax') # Capa de salida con 10 neuronas (una por clase) y activación softmax\n",
        "])\n",
        "\n",
        "# Compilar el modelo\n",
        "model.compile(optimizer='adam',\n",
        "              loss='categorical_crossentropy',\n",
        "              metrics=['accuracy'])\n",
        "\n",
        "# Entrenar el modelo\n",
        "history = model.fit(train_data_normalized, train_labels_one_hot, epochs=5, batch_size=32, validation_split=0.2)\n",
        "\n",
        "# Evaluar el modelo con los datos de prueba\n",
        "loss, accuracy = model.evaluate(test_data_normalized, test_labels_one_hot)\n",
        "print(f\"Precisión en los datos de prueba: {accuracy:.4f}\")"
      ],
      "execution_count": 26,
      "outputs": [
        {
          "output_type": "stream",
          "name": "stdout",
          "text": [
            "Epoch 1/5\n",
            "\u001b[1m1500/1500\u001b[0m \u001b[32m━━━━━━━━━━━━━━━━━━━━\u001b[0m\u001b[37m\u001b[0m \u001b[1m7s\u001b[0m 4ms/step - accuracy: 0.8646 - loss: 0.4774 - val_accuracy: 0.9466 - val_loss: 0.1753\n",
            "Epoch 2/5\n",
            "\u001b[1m1500/1500\u001b[0m \u001b[32m━━━━━━━━━━━━━━━━━━━━\u001b[0m\u001b[37m\u001b[0m \u001b[1m7s\u001b[0m 5ms/step - accuracy: 0.9587 - loss: 0.1429 - val_accuracy: 0.9645 - val_loss: 0.1184\n",
            "Epoch 3/5\n",
            "\u001b[1m1500/1500\u001b[0m \u001b[32m━━━━━━━━━━━━━━━━━━━━\u001b[0m\u001b[37m\u001b[0m \u001b[1m12s\u001b[0m 6ms/step - accuracy: 0.9722 - loss: 0.0948 - val_accuracy: 0.9708 - val_loss: 0.0999\n",
            "Epoch 4/5\n",
            "\u001b[1m1500/1500\u001b[0m \u001b[32m━━━━━━━━━━━━━━━━━━━━\u001b[0m\u001b[37m\u001b[0m \u001b[1m7s\u001b[0m 4ms/step - accuracy: 0.9803 - loss: 0.0653 - val_accuracy: 0.9697 - val_loss: 0.1007\n",
            "Epoch 5/5\n",
            "\u001b[1m1500/1500\u001b[0m \u001b[32m━━━━━━━━━━━━━━━━━━━━\u001b[0m\u001b[37m\u001b[0m \u001b[1m7s\u001b[0m 5ms/step - accuracy: 0.9848 - loss: 0.0485 - val_accuracy: 0.9717 - val_loss: 0.0938\n",
            "\u001b[1m313/313\u001b[0m \u001b[32m━━━━━━━━━━━━━━━━━━━━\u001b[0m\u001b[37m\u001b[0m \u001b[1m1s\u001b[0m 2ms/step - accuracy: 0.9744 - loss: 0.0880\n",
            "Precisión en los datos de prueba: 0.9763\n"
          ]
        }
      ]
    },
    {
      "cell_type": "markdown",
      "source": [
        "# **5-PRUEBA DEL MODELO**"
      ],
      "metadata": {
        "id": "426DSSS1uszY"
      }
    },
    {
      "cell_type": "code",
      "metadata": {
        "colab": {
          "base_uri": "https://localhost:8080/"
        },
        "id": "ba8812b0",
        "outputId": "9badd617-c241-4272-d271-ceb6b1409aea"
      },
      "source": [
        "# Realizar predicciones con el conjunto de datos de prueba\n",
        "predictions = model.predict(test_data_normalized)\n",
        "\n",
        "# Seleccionar 5 ejemplos aleatorios del conjunto de prueba\n",
        "import random\n",
        "sample_indices = random.sample(range(len(test_data_normalized)), 5)\n",
        "\n",
        "print(\"Predicciones vs Valores Reales:\")\n",
        "for i in sample_indices:\n",
        "    predicted_class = np.argmax(predictions[i])\n",
        "    actual_class = y_test[i] # Cambiado de test_labels a y_test\n",
        "    print(f\"Ejemplo {i}: Predicción = {predicted_class}, Valor Real = {actual_class}\")"
      ],
      "execution_count": 28,
      "outputs": [
        {
          "output_type": "stream",
          "name": "stdout",
          "text": [
            "\u001b[1m313/313\u001b[0m \u001b[32m━━━━━━━━━━━━━━━━━━━━\u001b[0m\u001b[37m\u001b[0m \u001b[1m1s\u001b[0m 2ms/step\n",
            "Predicciones vs Valores Reales:\n",
            "Ejemplo 8817: Predicción = 9, Valor Real = 9\n",
            "Ejemplo 6928: Predicción = 1, Valor Real = 1\n",
            "Ejemplo 1971: Predicción = 6, Valor Real = 6\n",
            "Ejemplo 3670: Predicción = 3, Valor Real = 3\n",
            "Ejemplo 9517: Predicción = 4, Valor Real = 9\n"
          ]
        }
      ]
    }
  ]
}